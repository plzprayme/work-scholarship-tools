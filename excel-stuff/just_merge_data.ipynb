{
 "cells": [
  {
   "cell_type": "code",
   "execution_count": 8,
   "metadata": {},
   "outputs": [],
   "source": [
    "import pandas as pd\n",
    "import os"
   ]
  },
  {
   "cell_type": "code",
   "execution_count": 9,
   "metadata": {},
   "outputs": [],
   "source": [
    "datas = pd.read_csv('C:/Users/prayme/Downloads/zoomus_meeting_report_88584068050.csv', encoding='utf-8-sig')"
   ]
  },
  {
   "cell_type": "code",
   "execution_count": 12,
   "metadata": {},
   "outputs": [],
   "source": [
    "DICT = {}\n",
    "for idx, row in datas.iterrows():\n",
    "    try:\n",
    "        DICT[row['이름']][1] = row['나간시간']\n",
    "        DICT[row['이름']][2] += row['기간(분)']\n",
    "\n",
    "    except:\n",
    "        DICT[row['이름']] = [row['참가시간'], row['나간시간'], row['기간(분)']]\n",
    "        \n",
    "# dataframe 저장\n",
    "df = pd.DataFrame.from_dict(DICT)\n",
    "# column과 row 뒤집기\n",
    "df = df.T\n",
    "# index 교체하기 / column 이름 변경하기\n",
    "df['이름']= df.index\n",
    "df.index = [i for i in range(len(DICT))]\n",
    "df.rename(columns = {0: '참가시간', 1: '나간시간', 2:'기간(분)'}, inplace=True)\n",
    "\n",
    "# df 저장\n",
    "df.to_csv(\"_.csv\", encoding='utf-8-sig')"
   ]
  },
  {
   "cell_type": "code",
   "execution_count": null,
   "metadata": {},
   "outputs": [],
   "source": []
  }
 ],
 "metadata": {
  "kernelspec": {
   "display_name": "Python 3",
   "language": "python",
   "name": "python3"
  },
  "language_info": {
   "codemirror_mode": {
    "name": "ipython",
    "version": 3
   },
   "file_extension": ".py",
   "mimetype": "text/x-python",
   "name": "python",
   "nbconvert_exporter": "python",
   "pygments_lexer": "ipython3",
   "version": "3.7.4"
  }
 },
 "nbformat": 4,
 "nbformat_minor": 2
}
