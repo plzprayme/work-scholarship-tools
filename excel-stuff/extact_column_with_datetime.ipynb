{
 "cells": [
  {
   "cell_type": "code",
   "execution_count": 2,
   "metadata": {},
   "outputs": [],
   "source": [
    "import os\n",
    "import pandas as pd"
   ]
  },
  {
   "cell_type": "code",
   "execution_count": 3,
   "metadata": {},
   "outputs": [
    {
     "data": {
      "text/plain": [
       "['result.csv']"
      ]
     },
     "execution_count": 3,
     "metadata": {},
     "output_type": "execute_result"
    }
   ],
   "source": [
    "base_dir = 'C:/Users/prayme/Documents/카카오톡 받은 파일/새 폴더/to'\n",
    "os.listdir(base_dir)"
   ]
  },
  {
   "cell_type": "code",
   "execution_count": 8,
   "metadata": {},
   "outputs": [],
   "source": [
    "for file in os.listdir(base_dir):\n",
    "    # read file\n",
    "    datas = pd.read_csv(os.path.join(base_dir, file))\n",
    "    \n",
    "    # extract columns & sort\n",
    "#     columns = datas.filter(items=['이름(원래 이름)', '참가 시간', '나간 시간', '기간(분)'])\n",
    "    datas.sort_values(by=['0', '1'])\n",
    "    \n",
    "    # preprocessing data\n",
    "    DICT = {}\n",
    "    for idx, row in datas.iterrows():\n",
    "        try:\n",
    "            DICT[row['0']][1] = row['2']\n",
    "            DICT[row['0']][2] += row['3']\n",
    "\n",
    "        except:\n",
    "            DICT[row['0']] = [row['1'], row['2'], row['3']]\n",
    "        \n",
    "    names, join, exit, duration = [], [], [], []\n",
    "    for name, values in zip(DICT.keys(), DICT.values()):\n",
    "        names.append(name)\n",
    "        join.append(values[0])\n",
    "        exit.append(values[1])\n",
    "        duration.append(values[2])\n",
    "        \n",
    "        \n",
    "    DICT2 = {\n",
    "        'Name': names,\n",
    "        'Join': join,\n",
    "        'Exit': exit,\n",
    "        'duration': duration\n",
    "    }\n",
    "    \n",
    "    df = pd.DataFrame.from_dict(DICT2)\n",
    "    df.to_csv(os.path.join(base_dir, 'done_' + file), encoding='utf-8-sig')"
   ]
  },
  {
   "cell_type": "code",
   "execution_count": null,
   "metadata": {},
   "outputs": [],
   "source": []
  }
 ],
 "metadata": {
  "kernelspec": {
   "display_name": "Python 3",
   "language": "python",
   "name": "python3"
  },
  "language_info": {
   "codemirror_mode": {
    "name": "ipython",
    "version": 3
   },
   "file_extension": ".py",
   "mimetype": "text/x-python",
   "name": "python",
   "nbconvert_exporter": "python",
   "pygments_lexer": "ipython3",
   "version": "3.7.4"
  }
 },
 "nbformat": 4,
 "nbformat_minor": 2
}
