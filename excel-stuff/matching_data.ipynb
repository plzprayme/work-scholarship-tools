{
 "cells": [
  {
   "cell_type": "code",
   "execution_count": 1,
   "metadata": {},
   "outputs": [],
   "source": [
    "import pandas as pd\n",
    "import os"
   ]
  },
  {
   "cell_type": "code",
   "execution_count": 2,
   "metadata": {},
   "outputs": [
    {
     "data": {
      "text/plain": [
       "['a', 'b', 'result']"
      ]
     },
     "execution_count": 2,
     "metadata": {},
     "output_type": "execute_result"
    }
   ],
   "source": [
    "base_dir = \"C:/Users/prayme/Documents/카카오톡 받은 파일/새 폴더/matching\"\n",
    "os.listdir(base_dir)"
   ]
  },
  {
   "cell_type": "code",
   "execution_count": 3,
   "metadata": {},
   "outputs": [],
   "source": [
    "csv = pd.read_csv(os.path.join(base_dir, \"b/글로벌기업 취업스쿨_신청자리스트_sheet1.csv\"), encoding='utf-8-sig')"
   ]
  },
  {
   "cell_type": "code",
   "execution_count": 4,
   "metadata": {
    "scrolled": true
   },
   "outputs": [
    {
     "data": {
      "text/html": [
       "<div>\n",
       "<style scoped>\n",
       "    .dataframe tbody tr th:only-of-type {\n",
       "        vertical-align: middle;\n",
       "    }\n",
       "\n",
       "    .dataframe tbody tr th {\n",
       "        vertical-align: top;\n",
       "    }\n",
       "\n",
       "    .dataframe thead th {\n",
       "        text-align: right;\n",
       "    }\n",
       "</style>\n",
       "<table border=\"1\" class=\"dataframe\">\n",
       "  <thead>\n",
       "    <tr style=\"text-align: right;\">\n",
       "      <th></th>\n",
       "      <th>전공</th>\n",
       "      <th>학번</th>\n",
       "      <th>학년</th>\n",
       "      <th>이름</th>\n",
       "      <th>남/여</th>\n",
       "      <th>전공</th>\n",
       "      <th>학번</th>\n",
       "      <th>학년</th>\n",
       "      <th>이름</th>\n",
       "      <th>남/여</th>\n",
       "    </tr>\n",
       "  </thead>\n",
       "  <tbody>\n",
       "    <tr>\n",
       "      <td>0</td>\n",
       "      <td>무역학과</td>\n",
       "      <td>20181445</td>\n",
       "      <td>3</td>\n",
       "      <td>박서연</td>\n",
       "      <td>여자</td>\n",
       "      <td>무역학과</td>\n",
       "      <td>20181445</td>\n",
       "      <td>3</td>\n",
       "      <td>박서연</td>\n",
       "      <td>여자</td>\n",
       "    </tr>\n",
       "  </tbody>\n",
       "</table>\n",
       "</div>"
      ],
      "text/plain": [
       "     전공        학번  학년   이름 남/여    전공        학번  학년   이름 남/여\n",
       "0  무역학과  20181445   3  박서연  여자  무역학과  20181445   3  박서연  여자"
      ]
     },
     "execution_count": 4,
     "metadata": {},
     "output_type": "execute_result"
    }
   ],
   "source": [
    "pd.concat([csv.loc[csv['이름'] == '박서연'], csv.loc[csv['이름'] == '박서연']], axis=1)"
   ]
  },
  {
   "cell_type": "code",
   "execution_count": 5,
   "metadata": {},
   "outputs": [],
   "source": [
    "# 출석부에서 학과/학번/학년/이름/성별/참가시간/나간시간/기간\n",
    "path = os.path.join(base_dir, 'a')\n",
    "for file in os.listdir(path):\n",
    "    csv = pd.read_csv(os.path.join(path, file), encoding='utf-8-sig')\n",
    "    A = pd.read_csv(os.path.join(base_dir, \"b/글로벌기업 취업스쿨_신청자리스트_sheet1.csv\"))\n",
    "    \n",
    "    # 아예 재구성해보자\n",
    "    df = pd.DataFrame()\n",
    "    for idx, row in csv.iterrows():\n",
    "        df = pd.concat([df, pd.concat([row, A.loc[A['이름'] == row['Name']]], axis=1, ignore_index=True)])\n",
    "    df.to_csv(os.path.join(base_dir, \"result\" + file), encoding='utf-8-sig')"
   ]
  },
  {
   "cell_type": "code",
   "execution_count": null,
   "metadata": {},
   "outputs": [],
   "source": []
  }
 ],
 "metadata": {
  "kernelspec": {
   "display_name": "Python 3",
   "language": "python",
   "name": "python3"
  },
  "language_info": {
   "codemirror_mode": {
    "name": "ipython",
    "version": 3
   },
   "file_extension": ".py",
   "mimetype": "text/x-python",
   "name": "python",
   "nbconvert_exporter": "python",
   "pygments_lexer": "ipython3",
   "version": "3.7.4"
  }
 },
 "nbformat": 4,
 "nbformat_minor": 2
}
