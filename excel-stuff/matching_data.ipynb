{
 "cells": [
  {
   "cell_type": "code",
   "execution_count": 2,
   "metadata": {},
   "outputs": [],
   "source": [
    "import pandas as pd\n",
    "import os"
   ]
  },
  {
   "cell_type": "code",
   "execution_count": 6,
   "metadata": {},
   "outputs": [
    {
     "data": {
      "text/plain": [
       "['2020학년도「프로그램」 출석부 양식.xlsx',\n",
       " 'list',\n",
       " 'log',\n",
       " 'result',\n",
       " '~$2020학년도「프로그램」 출석부 양식.xlsx']"
      ]
     },
     "execution_count": 6,
     "metadata": {},
     "output_type": "execute_result"
    }
   ],
   "source": [
    "base_dir = \"C:/Users/prayme/Documents/카카오톡 받은 파일/2020-11-12\"\n",
    "os.listdir(base_dir)"
   ]
  },
  {
   "cell_type": "code",
   "execution_count": 4,
   "metadata": {
    "scrolled": true
   },
   "outputs": [
    {
     "data": {
      "text/html": [
       "<div>\n",
       "<style scoped>\n",
       "    .dataframe tbody tr th:only-of-type {\n",
       "        vertical-align: middle;\n",
       "    }\n",
       "\n",
       "    .dataframe tbody tr th {\n",
       "        vertical-align: top;\n",
       "    }\n",
       "\n",
       "    .dataframe thead th {\n",
       "        text-align: right;\n",
       "    }\n",
       "</style>\n",
       "<table border=\"1\" class=\"dataframe\">\n",
       "  <thead>\n",
       "    <tr style=\"text-align: right;\">\n",
       "      <th></th>\n",
       "      <th>전공</th>\n",
       "      <th>학번</th>\n",
       "      <th>학년</th>\n",
       "      <th>이름</th>\n",
       "      <th>남/여</th>\n",
       "      <th>전공</th>\n",
       "      <th>학번</th>\n",
       "      <th>학년</th>\n",
       "      <th>이름</th>\n",
       "      <th>남/여</th>\n",
       "    </tr>\n",
       "  </thead>\n",
       "  <tbody>\n",
       "    <tr>\n",
       "      <td>0</td>\n",
       "      <td>무역학과</td>\n",
       "      <td>20181445</td>\n",
       "      <td>3</td>\n",
       "      <td>박서연</td>\n",
       "      <td>여자</td>\n",
       "      <td>무역학과</td>\n",
       "      <td>20181445</td>\n",
       "      <td>3</td>\n",
       "      <td>박서연</td>\n",
       "      <td>여자</td>\n",
       "    </tr>\n",
       "  </tbody>\n",
       "</table>\n",
       "</div>"
      ],
      "text/plain": [
       "     전공        학번  학년   이름 남/여    전공        학번  학년   이름 남/여\n",
       "0  무역학과  20181445   3  박서연  여자  무역학과  20181445   3  박서연  여자"
      ]
     },
     "execution_count": 4,
     "metadata": {},
     "output_type": "execute_result"
    }
   ],
   "source": [
    "pd.concat([csv.loc[csv['이름'] == '박서연'], csv.loc[csv['이름'] == '박서연']], axis=1)"
   ]
  },
  {
   "cell_type": "code",
   "execution_count": 70,
   "metadata": {},
   "outputs": [],
   "source": [
    "# 출석부에서 학과/학번/학년/이름/성별/참가시간/나간시간/기간\n",
    "csv_path = os.path.join(base_dir, 'log')\n",
    "list_path = os.path.join(base_dir, 'list')\n",
    "for file in os.listdir(csv_path):\n",
    "    csv = pd.read_csv(os.path.join(csv_path, file), encoding='utf-8-sig')\n",
    "    A = pd.read_csv(os.path.join(list_path, '1.csv'), encoding='utf-8-sig')\n",
    "\n",
    "    # 아예 재구성해보자\n",
    "    result = []\n",
    "    for idx, row in csv.iterrows():\n",
    "        list_row = A[row['이름'] == A[\"이름\"]].loc[:, [\"학과\", \"학번\", \"학년\", \"이름\", \"성별\"]].values.tolist() # dataframe to list\n",
    "        if list_row:\n",
    "            csv_row = row.values.tolist()[2:] # series to list\n",
    "            result.append(list_row[0] + csv_row)\n",
    "            \n",
    "\n",
    "    df = pd.DataFrame(result)\n",
    "    df.to_csv(os.path.join(base_dir, \"result\" + file), encoding='utf-8-sig')"
   ]
  },
  {
   "cell_type": "code",
   "execution_count": null,
   "metadata": {},
   "outputs": [],
   "source": []
  }
 ],
 "metadata": {
  "kernelspec": {
   "display_name": "Python 3",
   "language": "python",
   "name": "python3"
  },
  "language_info": {
   "codemirror_mode": {
    "name": "ipython",
    "version": 3
   },
   "file_extension": ".py",
   "mimetype": "text/x-python",
   "name": "python",
   "nbconvert_exporter": "python",
   "pygments_lexer": "ipython3",
   "version": "3.7.4"
  }
 },
 "nbformat": 4,
 "nbformat_minor": 2
}
