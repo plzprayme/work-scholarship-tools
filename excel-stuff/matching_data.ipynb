{
 "cells": [
  {
   "cell_type": "code",
   "execution_count": 18,
   "metadata": {},
   "outputs": [],
   "source": [
    "import pandas as pd\n",
    "import os"
   ]
  },
  {
   "cell_type": "code",
   "execution_count": 19,
   "metadata": {},
   "outputs": [
    {
     "data": {
      "text/plain": [
       "['list', 'log']"
      ]
     },
     "execution_count": 19,
     "metadata": {},
     "output_type": "execute_result"
    }
   ],
   "source": [
    "base_dir = \"C:/Users/prayme/Documents/카카오톡 받은 파일/new\"\n",
    "os.listdir(base_dir)"
   ]
  },
  {
   "cell_type": "code",
   "execution_count": 20,
   "metadata": {},
   "outputs": [],
   "source": [
    "# 출석부에서 학과/학번/학년/이름/성별/참가시간/나간시간/기간\n",
    "csv_path = os.path.join(base_dir, 'log')\n",
    "list_path = os.path.join(base_dir, 'list')\n",
    "for file in os.listdir(csv_path):\n",
    "    csv = pd.read_csv(os.path.join(csv_path, file), encoding='utf-8-sig')\n",
    "    A = pd.read_csv(os.path.join(list_path, '1.csv'), encoding='utf-8-sig')\n",
    "\n",
    "    # 아예 재구성해보자\n",
    "    result = []\n",
    "    for idx, row in csv.iterrows():\n",
    "        list_row = A[row['이름'] == A[\"이름\"]].loc[:, [\"학과\", \"학번\", \"학년\", \"이름\", \"성별\"]].values.tolist() # dataframe to list\n",
    "        if list_row:\n",
    "            csv_row = row.values.tolist()[2:] # series to list\n",
    "            result.append(list_row[0] + csv_row)\n",
    "            \n",
    "\n",
    "    df = pd.DataFrame(result)\n",
    "    df.to_csv(os.path.join(base_dir, \"result\" + file), encoding='utf-8-sig')"
   ]
  },
  {
   "cell_type": "code",
   "execution_count": null,
   "metadata": {},
   "outputs": [],
   "source": []
  }
 ],
 "metadata": {
  "kernelspec": {
   "display_name": "Python 3",
   "language": "python",
   "name": "python3"
  },
  "language_info": {
   "codemirror_mode": {
    "name": "ipython",
    "version": 3
   },
   "file_extension": ".py",
   "mimetype": "text/x-python",
   "name": "python",
   "nbconvert_exporter": "python",
   "pygments_lexer": "ipython3",
   "version": "3.8.5"
  }
 },
 "nbformat": 4,
 "nbformat_minor": 2
}
