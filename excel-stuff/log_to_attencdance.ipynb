{
 "cells": [
  {
   "cell_type": "code",
   "execution_count": 88,
   "metadata": {},
   "outputs": [],
   "source": [
    "import os\n",
    "import pandas as pd"
   ]
  },
  {
   "cell_type": "code",
   "execution_count": 100,
   "metadata": {},
   "outputs": [],
   "source": [
    "base_dir = 'C:/Users/prayme/Documents/카카오톡 받은 파일/preprocessing_log'\n",
    "log_dir = os.path.join(base_dir, 'log')\n",
    "log_result_dir = os.path.join(log_dir, '_')\n",
    "attendance_dir = os.path.join(base_dir, 'attendance')\n",
    "encoding_type = 'utf-8-sig'"
   ]
  },
  {
   "cell_type": "code",
   "execution_count": 101,
   "metadata": {},
   "outputs": [],
   "source": [
    "def preprocessing_log():\n",
    "    result_dir = os.path.join(log_dir, '_')\n",
    "    # 사전에 넘겨받은 로그 파일을 수작업으로 전처리 해야한다.\n",
    "    # 1. 출석부를 참고하여 이름 정형화 (딱 이름만 존재하도록)\n",
    "    # 2. column 이름 고정 -->> 이름, 참가시간, 나간시간, 기간(분)\n",
    "    # 3. csv-utf8 형식으로 저장\n",
    "    \n",
    "    # 결과 디렉토리 제거 후 리턴\n",
    "    work_dir = os.listdir(log_dir)\n",
    "    work_dir.remove('_')\n",
    "#     print([f for os.listdir(log_dir) in x x != '_'])\n",
    "    for file in work_dir:\n",
    "        print(file)\n",
    "        # csv 불러오기\n",
    "        log = pd.read_csv(os.path.join(log_dir, file), encoding=encoding_type)\n",
    "        \n",
    "        # 참가시간과 나간 시간을 합칠 때를 위해 정렬\n",
    "        log.sort_values(by=['이름', '참가시간'])\n",
    "        \n",
    "        # 참가 시간과 나간 시간 합치기\n",
    "        # try - except를 활용해서 데이터가 존재하지 않으면 생성한다.\n",
    "        DICT = {}\n",
    "        for idx, row in log.iterrows():\n",
    "            try:\n",
    "                DICT[row['이름']][1] = row['나간시간']\n",
    "                DICT[row['이름']][2] += row['기간(분)']\n",
    "            except:\n",
    "                DICT[row['이름']] = [row['참가시간'], row['나간시간'], row['기간(분)']]\n",
    "        \n",
    "        \n",
    "        # dataframe 저장\n",
    "        df = pd.DataFrame.from_dict(DICT)\n",
    "        # column과 row 뒤집기\n",
    "        df = df.T\n",
    "        # index 교체하기 / column 이름 변경하기\n",
    "        df['이름']= df.index\n",
    "        df.index = [i for i in range(len(DICT))]\n",
    "        df.rename(columns = {0: '참가시간', 1: '나간시간', 2:'기간(분)'}, inplace=True)\n",
    "        \n",
    "        # df 저장\n",
    "        df.to_csv(os.path.join(log_result_dir, '_' + file), encoding=encoding_type)"
   ]
  },
  {
   "cell_type": "code",
   "execution_count": 115,
   "metadata": {},
   "outputs": [],
   "source": [
    "def matching_data():\n",
    "    for file in os.listdir(log_result_dir):\n",
    "        # 재료 불러오기\n",
    "        # 출석부의 이름은 1.csv로 만들어줘야함\n",
    "        # 출석부 column 전처리 필요함 ['학과', '학번', '학년', '이름', '성별']\n",
    "        log = pd.read_csv(os.path.join(log_result_dir, file), encoding=encoding_type)\n",
    "        attendance = pd.read_csv(os.path.join(attendance_dir, '1.csv'), encoding=encoding_type)\n",
    "        \n",
    "        # 데이터 매칭\n",
    "        result = []\n",
    "        for idx, row in log.iterrows():\n",
    "            rows = attendance[row['이름'] == attendance['이름']].loc[:, ['학과', '학번', '학년', '이름', '성별']].values.tolist()\n",
    "            if rows:\n",
    "                csv_row = row.values.tolist()[2:]\n",
    "                result.append(rows[0] + csv_row)\n",
    "                \n",
    "        df = pd.DataFrame(result)\n",
    "        df.to_csv(os.path.join(base_dir, 'result_' + file), encoding=encoding_type)"
   ]
  },
  {
   "cell_type": "code",
   "execution_count": 116,
   "metadata": {
    "scrolled": true
   },
   "outputs": [
    {
     "name": "stdout",
     "output_type": "stream",
     "text": [
      "로그기록_201112.csv\n"
     ]
    },
    {
     "ename": "TypeError",
     "evalue": "pop() missing 1 required positional argument: 'item'",
     "output_type": "error",
     "traceback": [
      "\u001b[1;31m---------------------------------------------------------------------------\u001b[0m",
      "\u001b[1;31mTypeError\u001b[0m                                 Traceback (most recent call last)",
      "\u001b[1;32m<ipython-input-116-4ee27fec9b07>\u001b[0m in \u001b[0;36m<module>\u001b[1;34m\u001b[0m\n\u001b[0;32m      1\u001b[0m \u001b[0mpreprocessing_log\u001b[0m\u001b[1;33m(\u001b[0m\u001b[1;33m)\u001b[0m\u001b[1;33m\u001b[0m\u001b[1;33m\u001b[0m\u001b[0m\n\u001b[1;32m----> 2\u001b[1;33m \u001b[0mmatching_data\u001b[0m\u001b[1;33m(\u001b[0m\u001b[1;33m)\u001b[0m\u001b[1;33m\u001b[0m\u001b[1;33m\u001b[0m\u001b[0m\n\u001b[0m",
      "\u001b[1;32m<ipython-input-115-753612268a56>\u001b[0m in \u001b[0;36mmatching_data\u001b[1;34m()\u001b[0m\n\u001b[0;32m     16\u001b[0m \u001b[1;33m\u001b[0m\u001b[0m\n\u001b[0;32m     17\u001b[0m         \u001b[0mdf\u001b[0m \u001b[1;33m=\u001b[0m \u001b[0mpd\u001b[0m\u001b[1;33m.\u001b[0m\u001b[0mDataFrame\u001b[0m\u001b[1;33m(\u001b[0m\u001b[0mresult\u001b[0m\u001b[1;33m)\u001b[0m\u001b[1;33m\u001b[0m\u001b[1;33m\u001b[0m\u001b[0m\n\u001b[1;32m---> 18\u001b[1;33m         \u001b[0mdf\u001b[0m\u001b[1;33m.\u001b[0m\u001b[0mpop\u001b[0m\u001b[1;33m(\u001b[0m\u001b[1;33m)\u001b[0m\u001b[1;33m\u001b[0m\u001b[1;33m\u001b[0m\u001b[0m\n\u001b[0m\u001b[0;32m     19\u001b[0m         \u001b[0mdf\u001b[0m\u001b[1;33m.\u001b[0m\u001b[0mto_csv\u001b[0m\u001b[1;33m(\u001b[0m\u001b[0mos\u001b[0m\u001b[1;33m.\u001b[0m\u001b[0mpath\u001b[0m\u001b[1;33m.\u001b[0m\u001b[0mjoin\u001b[0m\u001b[1;33m(\u001b[0m\u001b[0mbase_dir\u001b[0m\u001b[1;33m,\u001b[0m \u001b[1;34m'result_'\u001b[0m \u001b[1;33m+\u001b[0m \u001b[0mfile\u001b[0m\u001b[1;33m)\u001b[0m\u001b[1;33m,\u001b[0m \u001b[0mencoding\u001b[0m\u001b[1;33m=\u001b[0m\u001b[0mencoding_type\u001b[0m\u001b[1;33m)\u001b[0m\u001b[1;33m\u001b[0m\u001b[1;33m\u001b[0m\u001b[0m\n",
      "\u001b[1;31mTypeError\u001b[0m: pop() missing 1 required positional argument: 'item'"
     ]
    }
   ],
   "source": [
    "preprocessing_log()\n",
    "matching_data()"
   ]
  },
  {
   "cell_type": "code",
   "execution_count": null,
   "metadata": {},
   "outputs": [],
   "source": []
  }
 ],
 "metadata": {
  "kernelspec": {
   "display_name": "Python 3",
   "language": "python",
   "name": "python3"
  },
  "language_info": {
   "codemirror_mode": {
    "name": "ipython",
    "version": 3
   },
   "file_extension": ".py",
   "mimetype": "text/x-python",
   "name": "python",
   "nbconvert_exporter": "python",
   "pygments_lexer": "ipython3",
   "version": "3.7.4"
  }
 },
 "nbformat": 4,
 "nbformat_minor": 4
}
